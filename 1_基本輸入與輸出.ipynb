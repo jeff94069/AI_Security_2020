{
  "nbformat": 4,
  "nbformat_minor": 0,
  "metadata": {
    "colab": {
      "name": "Untitled3.ipynb",
      "provenance": [],
      "authorship_tag": "ABX9TyNJb3P9iWcLzYjX0p7jPwEg",
      "include_colab_link": true
    },
    "kernelspec": {
      "name": "python3",
      "display_name": "Python 3"
    }
  },
  "cells": [
    {
      "cell_type": "markdown",
      "metadata": {
        "id": "view-in-github",
        "colab_type": "text"
      },
      "source": [
        "<a href=\"https://colab.research.google.com/github/jeff94069/AI_Security_2020/blob/master/1_%E5%9F%BA%E6%9C%AC%E8%BC%B8%E5%85%A5%E8%88%87%E8%BC%B8%E5%87%BA.ipynb\" target=\"_parent\"><img src=\"https://colab.research.google.com/assets/colab-badge.svg\" alt=\"Open In Colab\"/></a>"
      ]
    },
    {
      "cell_type": "code",
      "metadata": {
        "id": "QK-RY9MHpesB",
        "colab_type": "code",
        "colab": {}
      },
      "source": [
        "[1]標準輸入(stdin)與標準輸出(stdout)\n",
        "   python輸入:input(), raw_input()\n",
        "   python輸出: print()\n",
        "   python格式化輸出技術\n",
        "[2]"
      ],
      "execution_count": null,
      "outputs": []
    },
    {
      "cell_type": "code",
      "metadata": {
        "id": "IpcdQ1bZprKL",
        "colab_type": "code",
        "colab": {}
      },
      "source": [
        "進階學習主題:\n",
        "[10]讀取檔案與輸出到檔案\n",
        "[20]資料庫讀取與輸出"
      ],
      "execution_count": null,
      "outputs": []
    },
    {
      "cell_type": "markdown",
      "metadata": {
        "id": "R47F-bW2qQlk",
        "colab_type": "text"
      },
      "source": [
        "# 基礎輸入與輸出(Basic Input and Output)\n",
        "## 基本輸入：讀取使用者的輸入\n",
        "\n",
        "\n",
        "```\n",
        "使用input時，會從標準輸入(stdin)中讀取輸入資料\n",
        "這些資料是string字串型態{重要}\n",
        "stdin==Standard Input\n",
        "```\n",
        "\n",
        "\n",
        "```\n",
        "# -*- coding: utf-8 -*-\n",
        "x = input('Enter your name:')\n",
        "print('Hello, ' + x)\n",
        "\n",
        "a = input(\"請輸入：\")\n",
        "a\n",
        "\n",
        "###  使用Python內建的type()函數顯示資料型態\n",
        "\n",
        "type(a)\n",
        "```\n",
        "\n",
        "\n",
        "\n",
        "\n"
      ]
    },
    {
      "cell_type": "markdown",
      "metadata": {
        "id": "-TC_ARoTujeU",
        "colab_type": "text"
      },
      "source": [
        "### 程式錯誤與更正\n",
        "\n",
        "```\n",
        "小明明正在學習python程式\n",
        "老師出了一題\n",
        "要輸入一個整數分數\n",
        "# 然後加30後\n",
        "輸出最後答案\n",
        "底下是小明明的python程式\n",
        "請指出底下的錯誤並更正\n",
        "```\n",
        "\n"
      ]
    },
    {
      "cell_type": "markdown",
      "metadata": {
        "id": "bcyk7rBNvFR6",
        "colab_type": "text"
      },
      "source": [
        "小明明的python程序\n",
        "\n",
        "```\n",
        "a = input(\"請輸入：\")\n",
        "a\n",
        "```\n",
        "\n",
        "```\n",
        "b=a+1\n",
        "b\n",
        "```\n",
        "\n",
        "```\n",
        "TypeError                                 Traceback (most recent call last)\n",
        "<ipython-input-15-1bf84b7b9877> in <module>()\n",
        "----> 1 b=a+1\n",
        "      2 b\n",
        "\n",
        "TypeError: must be str, not int\n",
        "\n",
        "```\n",
        "\n",
        "```\n",
        "TypeError :資料型態(data type)錯誤\n",
        "```\n",
        "\n",
        "\n",
        "\n",
        "\n",
        "\n"
      ]
    },
    {
      "cell_type": "markdown",
      "metadata": {
        "id": "p_uGtiRbvciY",
        "colab_type": "text"
      },
      "source": [
        "更正的小明明python程序\n",
        "\n",
        "```\n",
        "如何讀取使用者輸入的整數===>使用eval()函數\n",
        "```\n",
        "\n",
        "```\n",
        "a = eval(input(\"請輸入：\"))\n",
        "a\n",
        "\n",
        "b=a+1\n",
        "b\n",
        "```\n",
        "\n"
      ]
    },
    {
      "cell_type": "markdown",
      "metadata": {
        "id": "nx8TKP4mvyEh",
        "colab_type": "text"
      },
      "source": [
        "超級重要：一次輸入多（兩）個資料\n",
        "\n",
        "\n",
        "```\n",
        "a,b = eval(input(\"請輸入兩個數位：\"))\n",
        "a,b\n",
        "```\n",
        "\n"
      ]
    },
    {
      "cell_type": "markdown",
      "metadata": {
        "id": "0M34hfmWwFgk",
        "colab_type": "text"
      },
      "source": [
        "高階技巧：[初學可略過]\n",
        "\n",
        "```\n",
        "x, y, z = [int(x) for x in input(\"Enter three value: \").split()] \n",
        "print(\"First Number is: \", x) \n",
        "print(\"Second Number is: \", y) \n",
        "print(\"Third Number is: \", z) \n",
        "print()\n",
        "\n",
        "x, y, z = [int(x) for x in input(\"Enter three value: \").split(\",\")] \n",
        "print(\"First Number is: \", x) \n",
        "print(\"Second Number is: \", y) \n",
        "print(\"Third Number is: \", z) \n",
        "print()\n",
        "\n",
        "a, b = input(\"Enter a two value: \").split() \n",
        "print(\"First number is {} and second number is {}\".format(a, b)) \n",
        "print()\n",
        "```\n",
        "\n"
      ]
    }
  ]
}