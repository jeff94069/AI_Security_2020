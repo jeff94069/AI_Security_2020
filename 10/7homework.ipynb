{
  "nbformat": 4,
  "nbformat_minor": 0,
  "metadata": {
    "colab": {
      "name": "Untitled12.ipynb",
      "provenance": [],
      "authorship_tag": "ABX9TyPEgws/BiD4/fQqGvIlDnmO",
      "include_colab_link": true
    },
    "kernelspec": {
      "name": "python3",
      "display_name": "Python 3"
    }
  },
  "cells": [
    {
      "cell_type": "markdown",
      "metadata": {
        "id": "view-in-github",
        "colab_type": "text"
      },
      "source": [
        "<a href=\"https://colab.research.google.com/github/jeff94069/AI_Security_2020/blob/master/10/7homework.ipynb\" target=\"_parent\"><img src=\"https://colab.research.google.com/assets/colab-badge.svg\" alt=\"Open In Colab\"/></a>"
      ]
    },
    {
      "cell_type": "markdown",
      "metadata": {
        "id": "xpbSZ0M4WcTZ"
      },
      "source": [
        "# np.diag\n",
        "[https://numpy.org/doc/stable/reference/generated/numpy.diag.html]"
      ]
    },
    {
      "cell_type": "code",
      "metadata": {
        "id": "PI0yMe93W1Jo",
        "outputId": "0ad91448-e765-436a-b57c-6217283c96c0",
        "colab": {
          "base_uri": "https://localhost:8080/",
          "height": 68
        }
      },
      "source": [
        "array10 = np.diag((2,3,4))\n",
        "array10"
      ],
      "execution_count": null,
      "outputs": [
        {
          "output_type": "execute_result",
          "data": {
            "text/plain": [
              "array([[2, 0, 0],\n",
              "       [0, 3, 0],\n",
              "       [0, 0, 4]])"
            ]
          },
          "metadata": {
            "tags": []
          },
          "execution_count": 15
        }
      ]
    },
    {
      "cell_type": "markdown",
      "metadata": {
        "id": "HosuW3iTb1al"
      },
      "source": [
        "# np.linspace\n",
        "[https://numpy.org/doc/stable/reference/generated/numpy.linspace.html](https://)"
      ]
    },
    {
      "cell_type": "code",
      "metadata": {
        "id": "7WHfrRbRcI2U",
        "outputId": "21c05183-432d-4251-bde3-bde073e41694",
        "colab": {
          "base_uri": "https://localhost:8080/",
          "height": 102
        }
      },
      "source": [
        "import numpy as np\n",
        "np.indices((2, 3))"
      ],
      "execution_count": null,
      "outputs": [
        {
          "output_type": "execute_result",
          "data": {
            "text/plain": [
              "array([[[0, 0, 0],\n",
              "        [1, 1, 1]],\n",
              "\n",
              "       [[0, 1, 2],\n",
              "        [0, 1, 2]]])"
            ]
          },
          "metadata": {
            "tags": []
          },
          "execution_count": 14
        }
      ]
    },
    {
      "cell_type": "code",
      "metadata": {
        "id": "GMtSHQ5rgrvC",
        "outputId": "ed8b7989-2620-4426-a0fb-b23c1a9b40f6",
        "colab": {
          "base_uri": "https://localhost:8080/",
          "height": 269
        }
      },
      "source": [
        "import matplotlib.pyplot as plt\n",
        "X = 3\n",
        "Y = np.zeros(N)\n",
        "x1 = np.linspace(2.0, 3.0, num=N, endpoint=False)\n",
        "x2 = np.linspace(2.0, 3.0, num=N, endpoint=True)\n",
        "plt.plot(x1, Y, 'k')\n",
        "\n",
        "plt.plot(x2, Y + 0.5, 'k')\n",
        "\n",
        "plt.ylim([-0.5, 1])\n",
        "\n",
        "plt.show()"
      ],
      "execution_count": null,
      "outputs": [
        {
          "output_type": "display_data",
          "data": {
            "image/png": "[encoded data removed]",
            "text/plain": [
              "<Figure size 432x288 with 1 Axes>"
            ]
          },
          "metadata": {
            "tags": [],
            "needs_background": "light"
          }
        }
      ]
    },
    {
      "cell_type": "markdown",
      "metadata": {
        "id": "Ur0utrYYfEck"
      },
      "source": [
        "# np.ones\n",
        "https://numpy.org/doc/stable/reference/generated/numpy.ones.html"
      ]
    },
    {
      "cell_type": "code",
      "metadata": {
        "id": "bu--BsbTf47T",
        "outputId": "df4dbd61-8b52-49c5-ffdf-478b487a3fb1",
        "colab": {
          "base_uri": "https://localhost:8080/",
          "height": 34
        }
      },
      "source": [
        "np.ones(5)"
      ],
      "execution_count": null,
      "outputs": [
        {
          "output_type": "execute_result",
          "data": {
            "text/plain": [
              "array([1., 1., 1., 1., 1.])"
            ]
          },
          "metadata": {
            "tags": []
          },
          "execution_count": 16
        }
      ]
    },
    {
      "cell_type": "code",
      "metadata": {
        "id": "RnFJu_SHgRM9",
        "outputId": "ac9b02bb-2cdf-46c1-a020-6459afabb668",
        "colab": {
          "base_uri": "https://localhost:8080/",
          "height": 34
        }
      },
      "source": [
        "np.ones(5)\n",
        "np.ones(5)*(3)"
      ],
      "execution_count": null,
      "outputs": [
        {
          "output_type": "execute_result",
          "data": {
            "text/plain": [
              "array([3., 3., 3., 3., 3.])"
            ]
          },
          "metadata": {
            "tags": []
          },
          "execution_count": 17
        }
      ]
    },
    {
      "cell_type": "markdown",
      "metadata": {
        "id": "OUcNcmwIi9Jj"
      },
      "source": [
        "# NUMPY ndarray\n",
        "https://numpy.org/doc/stable/reference/generated/numpy.ndarray.html"
      ]
    },
    {
      "cell_type": "code",
      "metadata": {
        "id": "lPhzObr5jRvM",
        "outputId": "b8587c25-dba9-467e-c5b1-abd79f35b5e6",
        "colab": {
          "base_uri": "https://localhost:8080/",
          "height": 51
        }
      },
      "source": [
        "\n",
        "import numpy as np\n",
        "# Generate some random data\n",
        "data = np.random.randn(2, 3)\n",
        "data"
      ],
      "execution_count": null,
      "outputs": [
        {
          "output_type": "execute_result",
          "data": {
            "text/plain": [
              "array([[-1.52770667,  1.12557433,  0.97038725],\n",
              "       [ 0.0443764 ,  0.02260234, -0.50146274]])"
            ]
          },
          "metadata": {
            "tags": []
          },
          "execution_count": 28
        }
      ]
    },
    {
      "cell_type": "code",
      "metadata": {
        "id": "2DYwIrcvjUir",
        "outputId": "0ca7eb01-2fe7-4256-de1a-d20343fcab30",
        "colab": {
          "base_uri": "https://localhost:8080/",
          "height": 51
        }
      },
      "source": [
        "np.ndarray(shape=(2,2), dtype=float, order='F')"
      ],
      "execution_count": null,
      "outputs": [
        {
          "output_type": "execute_result",
          "data": {
            "text/plain": [
              "array([[ 54.  , 388.8 ],\n",
              "       [ 36.  , 253.44]])"
            ]
          },
          "metadata": {
            "tags": []
          },
          "execution_count": 29
        }
      ]
    },
    {
      "cell_type": "code",
      "metadata": {
        "id": "2qhMttRQjgMU",
        "outputId": "e1aba6fb-3632-4c8c-e2b6-1c56fa617b59",
        "colab": {
          "base_uri": "https://localhost:8080/",
          "height": 34
        }
      },
      "source": [
        "np.ndarray((2,), buffer=np.array([1,2,3]),\n",
        "           offset=np.int_().itemsize,\n",
        "           dtype=int) # offset = 1*itemsize, i.e. skip first element"
      ],
      "execution_count": null,
      "outputs": [
        {
          "output_type": "execute_result",
          "data": {
            "text/plain": [
              "array([2, 3])"
            ]
          },
          "metadata": {
            "tags": []
          },
          "execution_count": 30
        }
      ]
    }
  ]
}