{
  "nbformat": 4,
  "nbformat_minor": 0,
  "metadata": {
    "colab": {
      "name": "homework2",
      "provenance": [],
      "collapsed_sections": [],
      "authorship_tag": "ABX9TyOVQMm+MGe6PEZjDTHaUoCY",
      "include_colab_link": true
    },
    "kernelspec": {
      "name": "python3",
      "display_name": "Python 3"
    }
  },
  "cells": [
    {
      "cell_type": "markdown",
      "metadata": {
        "id": "view-in-github",
        "colab_type": "text"
      },
      "source": [
        "<a href=\"https://colab.research.google.com/github/jeff94069/AI_Security_2020/blob/master/homework2.ipynb\" target=\"_parent\"><img src=\"https://colab.research.google.com/assets/colab-badge.svg\" alt=\"Open In Colab\"/></a>"
      ]
    },
    {
      "cell_type": "code",
      "metadata": {
        "id": "fozflnaPen7s",
        "colab_type": "code",
        "colab": {
          "base_uri": "https://localhost:8080/",
          "height": 68
        },
        "outputId": "f7602502-53ef-4674-e82b-685f18ebd5f7"
      },
      "source": [
        "str1 = 'hello'\n",
        "print(str1)\n",
        "\n",
        "str2 = \"  python!\"\n",
        "print(str2)\n",
        "\n",
        "c = str1 + str2\n",
        "print(c)"
      ],
      "execution_count": 3,
      "outputs": [
        {
          "output_type": "stream",
          "text": [
            "hello\n",
            "  python!\n",
            "hello  python!\n"
          ],
          "name": "stdout"
        }
      ]
    }
  ]
}